{
 "cells": [
  {
   "cell_type": "code",
   "execution_count": 4,
   "id": "8ca35b28",
   "metadata": {},
   "outputs": [],
   "source": [
    "# import h5py\n",
    "import ROOT\n",
    "import numpy as np\n",
    "import matplotlib.pyplot as plt\n",
    "import os\n",
    "import tensorflow as tf\n",
    "from dataclasses import dataclass\n",
    "from typing import List"
   ]
  },
  {
   "cell_type": "code",
   "execution_count": null,
   "id": "6bd97d5b",
   "metadata": {},
   "outputs": [],
   "source": [
    "xrootd_url='root://fndca1.fnal.gov:1094/pnfs/fnal.gov/usr/dune/archive/sam_managed_users/jierans/data/7/a/0/b/01558b40-fbc3-4f76-9a35-5681d72e930f-reco_28636553_834.root'"
   ]
  },
  {
   "cell_type": "code",
   "execution_count": 5,
   "id": "246753c2",
   "metadata": {},
   "outputs": [
    {
     "name": "stdout",
     "output_type": "stream",
     "text": [
      "******************************************************************************\n",
      "*Tree    :tree      : tree                                                   *\n",
      "*Entries :       20 : Total =      5519779175 bytes  File  Size =   37042375 *\n",
      "*        :          : Tree compression factor = 149.02                       *\n",
      "******************************************************************************\n",
      "*Br    0 :digit_map : vector<short>                                          *\n",
      "*Entries :20 : Total  Size= 5519772285 bytes  File Size  = 37038174 *\n",
      "*Baskets :       20 : Basket Size=   25600000 bytes  Compression= 149.03     *\n",
      "*............................................................................*\n",
      "*Br    1 :nu_direction : TVector3                                            *\n",
      "*Entries :       20 : Total  Size=       1571 bytes  File Size  =        792 *\n",
      "*Baskets :        2 : Basket Size=      51200 bytes  Compression=   1.33     *\n",
      "*............................................................................*\n",
      "*Br    2 :e_direction : TVector3                                             *\n",
      "*Entries :       20 : Total  Size=       1565 bytes  File Size  =        824 *\n",
      "*Baskets :        2 : Basket Size=      51200 bytes  Compression=   1.28     *\n",
      "*............................................................................*\n",
      "*Br    3 :e_position : TVector3                                              *\n",
      "*Entries :       20 : Total  Size=       1559 bytes  File Size  =        746 *\n",
      "*Baskets :        2 : Basket Size=      51200 bytes  Compression=   1.41     *\n",
      "*............................................................................*\n",
      "*Br    4 :nu_energy : nu_energy/D                                            *\n",
      "*Entries :       20 : Total  Size=        821 bytes  File Size  =        312 *\n",
      "*Baskets :        2 : Basket Size=      51200 bytes  Compression=   1.00     *\n",
      "*............................................................................*\n",
      "*Br    5 :e_energy  : e_energy/D                                             *\n",
      "*Entries :       20 : Total  Size=        815 bytes  File Size  =        310 *\n",
      "*Baskets :        2 : Basket Size=      51200 bytes  Compression=   1.00     *\n",
      "*............................................................................*\n"
     ]
    }
   ],
   "source": [
    "file = ROOT.TFile.Open('output.root')\n",
    "tree = file.tree\n",
    "tree.Print()"
   ]
  },
  {
   "cell_type": "code",
   "execution_count": 48,
   "id": "7f9e4424",
   "metadata": {
    "scrolled": false
   },
   "outputs": [
    {
     "name": "stdout",
     "output_type": "stream",
     "text": [
      "458 ms ± 2.94 ms per loop (mean ± std. dev. of 7 runs, 1 loop each)\n"
     ]
    }
   ],
   "source": [
    "%%timeit\n",
    "\n",
    "tree.GetEntry(10)\n",
    "# digit_map = tree.digit_map.data()\n",
    "digit_map = np.array(tree.digit_map.data(), dtype=np.int32)\n",
    "correct_shape_map = np.reshape(digit_map, (12, 2560, 4492))\n",
    "# correct_shape_map = np.ndarray(buffer=digit_map, shape=(12, 2560, 4492), dtype=np.int16)\n",
    "tf.sparse.from_dense(correct_shape_map)"
   ]
  },
  {
   "cell_type": "code",
   "execution_count": 49,
   "id": "4c99a16e",
   "metadata": {},
   "outputs": [
    {
     "ename": "UnknownError",
     "evalue": "JIT compilation failed. [Op:ZerosLike]",
     "output_type": "error",
     "traceback": [
      "\u001b[0;31m---------------------------------------------------------------------------\u001b[0m",
      "\u001b[0;31mUnknownError\u001b[0m                              Traceback (most recent call last)",
      "Input \u001b[0;32mIn [49]\u001b[0m, in \u001b[0;36m<cell line: 2>\u001b[0;34m()\u001b[0m\n\u001b[1;32m      1\u001b[0m a \u001b[38;5;241m=\u001b[39m tf\u001b[38;5;241m.\u001b[39mconstant([\u001b[38;5;241m1\u001b[39m, \u001b[38;5;241m2\u001b[39m, \u001b[38;5;241m3\u001b[39m, \u001b[38;5;241m0\u001b[39m, \u001b[38;5;241m0\u001b[39m], dtype\u001b[38;5;241m=\u001b[39mtf\u001b[38;5;241m.\u001b[39mint16)\n\u001b[0;32m----> 2\u001b[0m \u001b[43mtf\u001b[49m\u001b[38;5;241;43m.\u001b[39;49m\u001b[43msparse\u001b[49m\u001b[38;5;241;43m.\u001b[39;49m\u001b[43mfrom_dense\u001b[49m\u001b[43m(\u001b[49m\u001b[43ma\u001b[49m\u001b[43m)\u001b[49m\n",
      "File \u001b[0;32m~/miniconda3/envs/tensorflow-root/lib/python3.9/site-packages/tensorflow/python/ops/sparse_ops.py:128\u001b[0m, in \u001b[0;36mfrom_dense\u001b[0;34m(tensor, name)\u001b[0m\n\u001b[1;32m    125\u001b[0m \u001b[38;5;28;01mwith\u001b[39;00m ops\u001b[38;5;241m.\u001b[39mname_scope(name, \u001b[38;5;124m\"\u001b[39m\u001b[38;5;124mdense_to_sparse\u001b[39m\u001b[38;5;124m\"\u001b[39m):\n\u001b[1;32m    126\u001b[0m   tensor \u001b[38;5;241m=\u001b[39m ops\u001b[38;5;241m.\u001b[39mconvert_to_tensor(tensor)\n\u001b[1;32m    127\u001b[0m   indices \u001b[38;5;241m=\u001b[39m array_ops\u001b[38;5;241m.\u001b[39mwhere_v2(\n\u001b[0;32m--> 128\u001b[0m       math_ops\u001b[38;5;241m.\u001b[39mnot_equal(tensor, \u001b[43marray_ops\u001b[49m\u001b[38;5;241;43m.\u001b[39;49m\u001b[43mzeros_like\u001b[49m\u001b[43m(\u001b[49m\u001b[43mtensor\u001b[49m\u001b[43m)\u001b[49m))\n\u001b[1;32m    129\u001b[0m   values \u001b[38;5;241m=\u001b[39m array_ops\u001b[38;5;241m.\u001b[39mgather_nd(tensor, indices)\n\u001b[1;32m    130\u001b[0m   shape \u001b[38;5;241m=\u001b[39m array_ops\u001b[38;5;241m.\u001b[39mshape(tensor, out_type\u001b[38;5;241m=\u001b[39mdtypes\u001b[38;5;241m.\u001b[39mint64)\n",
      "File \u001b[0;32m~/miniconda3/envs/tensorflow-root/lib/python3.9/site-packages/tensorflow/python/util/traceback_utils.py:153\u001b[0m, in \u001b[0;36mfilter_traceback.<locals>.error_handler\u001b[0;34m(*args, **kwargs)\u001b[0m\n\u001b[1;32m    151\u001b[0m \u001b[38;5;28;01mexcept\u001b[39;00m \u001b[38;5;167;01mException\u001b[39;00m \u001b[38;5;28;01mas\u001b[39;00m e:\n\u001b[1;32m    152\u001b[0m   filtered_tb \u001b[38;5;241m=\u001b[39m _process_traceback_frames(e\u001b[38;5;241m.\u001b[39m__traceback__)\n\u001b[0;32m--> 153\u001b[0m   \u001b[38;5;28;01mraise\u001b[39;00m e\u001b[38;5;241m.\u001b[39mwith_traceback(filtered_tb) \u001b[38;5;28;01mfrom\u001b[39;00m \u001b[38;5;28mNone\u001b[39m\n\u001b[1;32m    154\u001b[0m \u001b[38;5;28;01mfinally\u001b[39;00m:\n\u001b[1;32m    155\u001b[0m   \u001b[38;5;28;01mdel\u001b[39;00m filtered_tb\n",
      "File \u001b[0;32m~/miniconda3/envs/tensorflow-root/lib/python3.9/site-packages/tensorflow/python/framework/ops.py:7186\u001b[0m, in \u001b[0;36mraise_from_not_ok_status\u001b[0;34m(e, name)\u001b[0m\n\u001b[1;32m   7184\u001b[0m \u001b[38;5;28;01mdef\u001b[39;00m \u001b[38;5;21mraise_from_not_ok_status\u001b[39m(e, name):\n\u001b[1;32m   7185\u001b[0m   e\u001b[38;5;241m.\u001b[39mmessage \u001b[38;5;241m+\u001b[39m\u001b[38;5;241m=\u001b[39m (\u001b[38;5;124m\"\u001b[39m\u001b[38;5;124m name: \u001b[39m\u001b[38;5;124m\"\u001b[39m \u001b[38;5;241m+\u001b[39m name \u001b[38;5;28;01mif\u001b[39;00m name \u001b[38;5;129;01mis\u001b[39;00m \u001b[38;5;129;01mnot\u001b[39;00m \u001b[38;5;28;01mNone\u001b[39;00m \u001b[38;5;28;01melse\u001b[39;00m \u001b[38;5;124m\"\u001b[39m\u001b[38;5;124m\"\u001b[39m)\n\u001b[0;32m-> 7186\u001b[0m   \u001b[38;5;28;01mraise\u001b[39;00m core\u001b[38;5;241m.\u001b[39m_status_to_exception(e) \u001b[38;5;28;01mfrom\u001b[39;00m \u001b[38;5;28mNone\u001b[39m\n",
      "\u001b[0;31mUnknownError\u001b[0m: JIT compilation failed. [Op:ZerosLike]"
     ]
    },
    {
     "name": "stderr",
     "output_type": "stream",
     "text": [
      "2022-05-03 16:43:36.521069: W tensorflow/core/framework/op_kernel.cc:1733] UNKNOWN: JIT compilation failed.\n"
     ]
    }
   ],
   "source": [
    "a = tf.constant([1, 2, 3, 0, 0], dtype=tf.int16)\n",
    "tf.sparse.from_dense(a)"
   ]
  },
  {
   "cell_type": "code",
   "execution_count": 50,
   "id": "7242d908",
   "metadata": {},
   "outputs": [
    {
     "name": "stderr",
     "output_type": "stream",
     "text": [
      "100%|███████████████████████████████████████████████████████████████████████████████████| 20/20 [00:13<00:00,  1.49it/s]\n"
     ]
    }
   ],
   "source": [
    "from tqdm import trange, tqdm\n",
    "from event import Event\n",
    "import time\n",
    "dataset = []\n",
    "for event in tqdm(tree, total=tree.GetEntriesFast()):\n",
    "    nu_energy = event.nu_energy\n",
    "    e_energy = event.e_energy\n",
    "    nu_direction = np.asarray(event.nu_direction)\n",
    "    e_direction = np.asarray(event.e_direction)\n",
    "    e_position = np.asarray(event.e_position)\n",
    "    # write digits\n",
    "    digit_map = np.array(event.digit_map.data(), dtype=np.int32) # annoyingly tf doesn't work on int16 sometimes...\n",
    "    plane_map = np.reshape(digit_map, (12, 2560, 4492))\n",
    "    plane_map = tf.constant(plane_map)\n",
    "    plane_map = tf.sparse.from_dense(plane_map)\n",
    "#     for apa in range(12):\n",
    "#     apa_begin = apa * 2560\n",
    "#     plane_map.append(np.array(digit_map[apa_begin        : apa_begin + 800]))\n",
    "#     plane_map.append(np.array(digit_map[apa_begin + 800  : apa_begin + 1600]))\n",
    "#     plane_map.append(np.array(digit_map[apa_begin + 1600 : apa_begin + 2560]))\n",
    "\n",
    "    e = Event(nu_energy, \n",
    "            e_energy , \n",
    "            nu_direction, \n",
    "            e_direction, \n",
    "            e_position, \n",
    "            plane_map)\n",
    "    dataset.append(e)"
   ]
  },
  {
   "cell_type": "code",
   "execution_count": 51,
   "id": "3f9fbf8b",
   "metadata": {},
   "outputs": [],
   "source": [
    "import pickle\n",
    "import gzip\n",
    "\n",
    "with gzip.open('../data/ES_clean.pkl.gz' , 'wb') as f:\n",
    "    pickle.dump(dataset, f)"
   ]
  }
 ],
 "metadata": {
  "interpreter": {
   "hash": "e7370f93d1d0cde622a1f8e1c04877d8463912d04d973331ad4851f04de6915a"
  },
  "kernelspec": {
   "display_name": "Python 3 (ipykernel)",
   "language": "python",
   "name": "python3"
  },
  "language_info": {
   "codemirror_mode": {
    "name": "ipython",
    "version": 3
   },
   "file_extension": ".py",
   "mimetype": "text/x-python",
   "name": "python",
   "nbconvert_exporter": "python",
   "pygments_lexer": "ipython3",
   "version": "3.9.12"
  }
 },
 "nbformat": 4,
 "nbformat_minor": 5
}
